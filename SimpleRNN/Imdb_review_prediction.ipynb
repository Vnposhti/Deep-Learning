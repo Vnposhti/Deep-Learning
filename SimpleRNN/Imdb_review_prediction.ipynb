{
  "nbformat": 4,
  "nbformat_minor": 0,
  "metadata": {
    "colab": {
      "provenance": []
    },
    "kernelspec": {
      "name": "python3",
      "display_name": "Python 3"
    },
    "language_info": {
      "name": "python"
    }
  },
  "cells": [
    {
      "cell_type": "markdown",
      "source": [
        "## Import Libraries"
      ],
      "metadata": {
        "id": "wVngC1QyoNTM"
      }
    },
    {
      "cell_type": "code",
      "execution_count": 13,
      "metadata": {
        "id": "t89S3hgImar6"
      },
      "outputs": [],
      "source": [
        "import tensorflow as tf\n",
        "import numpy as np\n",
        "from tensorflow import keras\n",
        "from tensorflow.keras.preprocessing import sequence\n",
        "from tensorflow.keras.datasets import imdb\n",
        "from tensorflow.keras.models import load_model"
      ]
    },
    {
      "cell_type": "markdown",
      "source": [
        "## Load Word Index and Model"
      ],
      "metadata": {
        "id": "J2z4DKG9v800"
      }
    },
    {
      "cell_type": "code",
      "source": [
        "word_index = imdb.get_word_index()\n",
        "model = load_model('/content/imdb_sentiment_analysis_model.h5')"
      ],
      "metadata": {
        "colab": {
          "base_uri": "https://localhost:8080/"
        },
        "id": "qCqT8NJav5ZP",
        "outputId": "31d75799-d778-49bc-8a17-22886c5152fc"
      },
      "execution_count": 14,
      "outputs": [
        {
          "output_type": "stream",
          "name": "stderr",
          "text": [
            "WARNING:absl:Compiled the loaded model, but the compiled metrics have yet to be built. `model.compile_metrics` will be empty until you train or evaluate the model.\n"
          ]
        }
      ]
    },
    {
      "cell_type": "markdown",
      "source": [
        "## Function to Process User Input Texts"
      ],
      "metadata": {
        "id": "C4MtdpIquwME"
      }
    },
    {
      "cell_type": "code",
      "source": [
        "def process_text(user_input):\n",
        "  words=user_input.lower().split()\n",
        "  encoded_review = [word_index.get(word,2) + 3 for word in words]\n",
        "  padded_review = sequence.pad_sequences([encoded_review], maxlen=150)\n",
        "  return padded_review\n"
      ],
      "metadata": {
        "id": "lDpH-6gmu244"
      },
      "execution_count": 15,
      "outputs": []
    },
    {
      "cell_type": "markdown",
      "source": [
        "## Prediction Function"
      ],
      "metadata": {
        "id": "fbLPtn2tw8OG"
      }
    },
    {
      "cell_type": "code",
      "source": [
        "def predict_sentiment(user_input):\n",
        "  processed_input = process_text(user_input)\n",
        "  prediction = model.predict(processed_input)\n",
        "  sentiment = \"Positive\" if prediction[0][0] > 0.5 else \"Negative\"\n",
        "  return sentiment, prediction[0][0]"
      ],
      "metadata": {
        "id": "x2nUBQKEw-8P"
      },
      "execution_count": 16,
      "outputs": []
    },
    {
      "cell_type": "markdown",
      "source": [
        "## Sample Prediction"
      ],
      "metadata": {
        "id": "MffS6WDlxtzW"
      }
    },
    {
      "cell_type": "code",
      "source": [
        "sample = \"This movie was fantastic! I really loved every minute of it.\"\n",
        "sentiment, score = predict_sentiment(sample)\n",
        "print(f\"Sample Review: {sample}\")\n",
        "print(f\"Sentiment: {sentiment}\")\n",
        "print(f\"Prediction Score: {score}\")"
      ],
      "metadata": {
        "colab": {
          "base_uri": "https://localhost:8080/"
        },
        "id": "w7hEf3XPx12t",
        "outputId": "2fc6c2b8-1993-412d-eea6-c4968acc9583"
      },
      "execution_count": 17,
      "outputs": [
        {
          "output_type": "stream",
          "name": "stdout",
          "text": [
            "\u001b[1m1/1\u001b[0m \u001b[32m━━━━━━━━━━━━━━━━━━━━\u001b[0m\u001b[37m\u001b[0m \u001b[1m0s\u001b[0m 194ms/step\n",
            "Sample Review: This movie was fantastic! I really loved every minute of it.\n",
            "Sentiment: Positive\n",
            "Prediction Score: 0.8883663415908813\n"
          ]
        }
      ]
    }
  ]
}