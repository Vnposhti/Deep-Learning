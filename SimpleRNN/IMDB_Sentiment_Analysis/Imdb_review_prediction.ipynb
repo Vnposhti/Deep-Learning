{
  "cells": [
    {
      "cell_type": "markdown",
      "metadata": {
        "id": "wVngC1QyoNTM"
      },
      "source": [
        "## Import Libraries"
      ]
    },
    {
      "cell_type": "code",
      "execution_count": 1,
      "metadata": {
        "id": "t89S3hgImar6"
      },
      "outputs": [],
      "source": [
        "import tensorflow as tf\n",
        "import numpy as np\n",
        "from tensorflow import keras\n",
        "from tensorflow.keras.preprocessing import sequence\n",
        "from tensorflow.keras.datasets import imdb\n",
        "from tensorflow.keras.models import load_model"
      ]
    },
    {
      "cell_type": "markdown",
      "metadata": {
        "id": "J2z4DKG9v800"
      },
      "source": [
        "## Load Word Index and Model"
      ]
    },
    {
      "cell_type": "code",
      "execution_count": 2,
      "metadata": {
        "colab": {
          "base_uri": "https://localhost:8080/"
        },
        "id": "qCqT8NJav5ZP",
        "outputId": "31d75799-d778-49bc-8a17-22886c5152fc"
      },
      "outputs": [
        {
          "name": "stdout",
          "output_type": "stream",
          "text": [
            "Downloading data from https://storage.googleapis.com/tensorflow/tf-keras-datasets/imdb_word_index.json\n",
            "\u001b[1m1641221/1641221\u001b[0m \u001b[32m━━━━━━━━━━━━━━━━━━━━\u001b[0m\u001b[37m\u001b[0m \u001b[1m2s\u001b[0m 1us/step\n"
          ]
        },
        {
          "name": "stderr",
          "output_type": "stream",
          "text": [
            "WARNING:absl:Compiled the loaded model, but the compiled metrics have yet to be built. `model.compile_metrics` will be empty until you train or evaluate the model.\n"
          ]
        }
      ],
      "source": [
        "word_index = imdb.get_word_index()\n",
        "model = load_model('imdb_sentiment_analysis_model.h5')"
      ]
    },
    {
      "cell_type": "markdown",
      "metadata": {
        "id": "C4MtdpIquwME"
      },
      "source": [
        "## Function to Process User Input Texts"
      ]
    },
    {
      "cell_type": "code",
      "execution_count": 3,
      "metadata": {
        "id": "lDpH-6gmu244"
      },
      "outputs": [],
      "source": [
        "def process_text(user_input):\n",
        "  words=user_input.lower().split()\n",
        "  encoded_review = [word_index.get(word,2) + 3 for word in words]\n",
        "  padded_review = sequence.pad_sequences([encoded_review], maxlen=150)\n",
        "  return padded_review\n"
      ]
    },
    {
      "cell_type": "markdown",
      "metadata": {
        "id": "fbLPtn2tw8OG"
      },
      "source": [
        "## Prediction Function"
      ]
    },
    {
      "cell_type": "code",
      "execution_count": 4,
      "metadata": {
        "id": "x2nUBQKEw-8P"
      },
      "outputs": [],
      "source": [
        "def predict_sentiment(user_input):\n",
        "  processed_input = process_text(user_input)\n",
        "  prediction = model.predict(processed_input)\n",
        "  sentiment = \"Positive\" if prediction[0][0] > 0.5 else \"Negative\"\n",
        "  return sentiment, prediction[0][0]"
      ]
    },
    {
      "cell_type": "markdown",
      "metadata": {
        "id": "MffS6WDlxtzW"
      },
      "source": [
        "## Sample Prediction"
      ]
    },
    {
      "cell_type": "code",
      "execution_count": 5,
      "metadata": {
        "colab": {
          "base_uri": "https://localhost:8080/"
        },
        "id": "w7hEf3XPx12t",
        "outputId": "2fc6c2b8-1993-412d-eea6-c4968acc9583"
      },
      "outputs": [
        {
          "name": "stdout",
          "output_type": "stream",
          "text": [
            "\u001b[1m1/1\u001b[0m \u001b[32m━━━━━━━━━━━━━━━━━━━━\u001b[0m\u001b[37m\u001b[0m \u001b[1m7s\u001b[0m 7s/step\n",
            "Sample Review: This movie was fantastic! I really loved every minute of it.\n",
            "Sentiment: Positive\n",
            "Prediction Score: 0.8883662819862366\n"
          ]
        }
      ],
      "source": [
        "sample = \"This movie was fantastic! I really loved every minute of it.\"\n",
        "sentiment, score = predict_sentiment(sample)\n",
        "print(f\"Sample Review: {sample}\")\n",
        "print(f\"Sentiment: {sentiment}\")\n",
        "print(f\"Prediction Score: {score}\")"
      ]
    }
  ],
  "metadata": {
    "colab": {
      "provenance": []
    },
    "kernelspec": {
      "display_name": "GenAI",
      "language": "python",
      "name": "python3"
    },
    "language_info": {
      "codemirror_mode": {
        "name": "ipython",
        "version": 3
      },
      "file_extension": ".py",
      "mimetype": "text/x-python",
      "name": "python",
      "nbconvert_exporter": "python",
      "pygments_lexer": "ipython3",
      "version": "3.11.9"
    }
  },
  "nbformat": 4,
  "nbformat_minor": 0
}
